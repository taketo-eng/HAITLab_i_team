{
 "cells": [
  {
   "cell_type": "code",
   "execution_count": null,
   "metadata": {},
   "outputs": [],
   "source": [
    "#@title Imports and function definitions\n",
    "from absl import logging\n",
    "\n",
    "import imageio\n",
    "import PIL.Image\n",
    "import matplotlib.pyplot as plt\n",
    "import numpy as np\n",
    "\n",
    "import tensorflow as tf\n",
    "tf.random.set_seed(0)\n",
    "\n",
    "import tensorflow_hub as hub\n",
    "from tensorflow_docs.vis import embed\n",
    "import time\n",
    "\n",
    "try:\n",
    "  from google.colab import files\n",
    "except ImportError:\n",
    "  pass\n",
    "\n",
    "from IPython import display\n",
    "from skimage import transform\n",
    "\n",
    "# We could retrieve this value from module.get_input_shapes() if we didn't know\n",
    "# beforehand which module we will be using.\n",
    "latent_dim = 512\n",
    "\n",
    "\n",
    "# Interpolates between two vectors that are non-zero and don't both lie on a\n",
    "# line going through origin. First normalizes v2 to have the same norm as v1. \n",
    "# Then interpolates between the two vectors on the hypersphere.\n",
    "def interpolate_hypersphere(v1, v2, num_steps):\n",
    "  v1_norm = tf.norm(v1)\n",
    "  v2_norm = tf.norm(v2)\n",
    "  v2_normalized = v2 * (v1_norm / v2_norm)\n",
    "\n",
    "  vectors = []\n",
    "  for step in range(num_steps):\n",
    "    interpolated = v1 + (v2_normalized - v1) * step / (num_steps - 1)\n",
    "    interpolated_norm = tf.norm(interpolated)\n",
    "    interpolated_normalized = interpolated * (v1_norm / interpolated_norm)\n",
    "    vectors.append(interpolated_normalized)\n",
    "  return tf.stack(vectors)\n",
    "\n",
    "\n",
    "\n",
    "# Given a set of images, show an animation.\n",
    "def animate(images):\n",
    "  images = np.array(images)\n",
    "  converted_images = np.clip(images * 255, 0, 255).astype(np.uint8)\n",
    "  imageio.mimsave('./animation.gif', converted_images)\n",
    "  return embed.embed_file('./animation.gif')\n",
    "\n",
    "logging.set_verbosity(logging.ERROR)"
   ]
  },
  {
   "cell_type": "code",
   "execution_count": null,
   "metadata": {},
   "outputs": [],
   "source": [
    "progan = hub.load(\"https://tfhub.dev/google/progan-128/1\").signatures['default']"
   ]
  },
  {
   "cell_type": "code",
   "execution_count": null,
   "metadata": {},
   "outputs": [],
   "source": [
    "###########これを実行すると、写真アップロード画面が出てくるからそこで写真を選択（基本jpegで）\n",
    "\n",
    "image_from_module_space = False  # @param { isTemplate:true, type:\"boolean\" }\n",
    "\n",
    "def get_module_space_image():\n",
    "  vector = tf.random.normal([1, latent_dim])\n",
    "  images = progan(vector)['default'][0]\n",
    "  return images\n",
    "\n",
    "def upload_image(file):\n",
    "  image = imageio.imread(file)\n",
    "  return transform.resize(image, [128, 128])\n",
    "\n",
    "if image_from_module_space:\n",
    "  target_image = get_module_space_image()\n",
    "else:\n",
    "  target_image = upload_image()\n",
    "target_image= target_image.astype(\"float32\")"
   ]
  },
  {
   "cell_type": "code",
   "execution_count": null,
   "metadata": {},
   "outputs": [],
   "source": []
  },
  {
   "cell_type": "code",
   "execution_count": null,
   "metadata": {},
   "outputs": [],
   "source": []
  },
  {
   "cell_type": "code",
   "execution_count": null,
   "metadata": {},
   "outputs": [],
   "source": []
  },
  {
   "cell_type": "code",
   "execution_count": null,
   "metadata": {},
   "outputs": [],
   "source": []
  },
  {
   "cell_type": "code",
   "execution_count": null,
   "metadata": {},
   "outputs": [],
   "source": []
  }
 ],
 "metadata": {
  "kernelspec": {
   "display_name": "Python 3",
   "language": "python",
   "name": "python3"
  },
  "language_info": {
   "codemirror_mode": {
    "name": "ipython",
    "version": 3
   },
   "file_extension": ".py",
   "mimetype": "text/x-python",
   "name": "python",
   "nbconvert_exporter": "python",
   "pygments_lexer": "ipython3",
   "version": "3.7.6"
  }
 },
 "nbformat": 4,
 "nbformat_minor": 4
}
